{
 "cells": [
  {
   "cell_type": "markdown",
   "metadata": {},
   "source": [
    "# Dependencies"
   ]
  },
  {
   "cell_type": "code",
   "execution_count": 9,
   "metadata": {},
   "outputs": [],
   "source": [
    "import time\n",
    "from selenium import webdriver\n",
    "from selenium.webdriver.chrome.service import Service\n",
    "from selenium.webdriver.common.by import By\n",
    "from selenium.webdriver.support.ui import WebDriverWait\n",
    "from selenium.webdriver.support import expected_conditions as EC\n",
    "from selenium.common.exceptions import TimeoutException, NoSuchElementException, ElementClickInterceptedException\n",
    "from selenium.webdriver.common.action_chains import ActionChains\n",
    "from selenium.webdriver.chrome.options import Options\n",
    "import re\n",
    "import sys\n",
    "from datetime import datetime, date\n",
    "from datetime import timedelta\n",
    "import pandas as pd"
   ]
  },
  {
   "cell_type": "code",
   "execution_count": null,
   "metadata": {},
   "outputs": [],
   "source": []
  },
  {
   "cell_type": "markdown",
   "metadata": {},
   "source": [
    "# Get the links of all news articles within a specific range"
   ]
  },
  {
   "cell_type": "code",
   "execution_count": 10,
   "metadata": {},
   "outputs": [],
   "source": [
    "def daterange(start_date, end_date):\n",
    "    for n in range(int((end_date - start_date).days)):\n",
    "        yield start_date + timedelta(n)"
   ]
  },
  {
   "cell_type": "code",
   "execution_count": 11,
   "metadata": {},
   "outputs": [
    {
     "name": "stdout",
     "output_type": "stream",
     "text": [
      "Clicked\n",
      "Clicked\n",
      "Clicked\n",
      "Clicked\n",
      "End of news\n",
      "Links extracted\n"
     ]
    }
   ],
   "source": [
    "dates = []\n",
    "# Select the start and end date to search on archive\n",
    "start_date = date(2024,5,1)\n",
    "end_date = date(2024,5,2)\n",
    "\n",
    "for single_Date in daterange(start_date, end_date):\n",
    "    dates.append(single_Date.strftime(\"%Y-%m-%d\"))\n",
    "\n",
    "options = Options()\n",
    "options.add_argument(\"window-size=1920,1080\")\n",
    "service = Service(executable_path=\"/Users/ashrafulshuvon/Desktop/Selenium/chromedriver\")\n",
    "driver = webdriver.Chrome(service=service, options=options)\n",
    "links = []\n",
    "\n",
    "for date in dates:\n",
    "    url = 'https://www.ittefaq.com.bd/archive/' + str(date)\n",
    "    driver.get(url)\n",
    "    time.sleep(5)\n",
    "    while True:\n",
    "        try:\n",
    "            # If the 'show more' button is not visible, then break the loop & extract the links\n",
    "            mn_button = driver.find_element(By.CSS_SELECTOR, \"#ajax_load_more_565_btn\")\n",
    "            if mn_button.get_attribute('style') == \"visibility: hidden;\":\n",
    "                print(\"End of news\")\n",
    "                time.sleep(5)\n",
    "                link_elements = driver.find_elements(By.CSS_SELECTOR, \"a.link_overlay\")\n",
    "                for element in link_elements:\n",
    "                    links.append(element.get_attribute('href'))\n",
    "                print(\"Links extracted\")    \n",
    "                break\n",
    "            \n",
    "            else:\n",
    "                # Click the 'show more' button untill it is not visible/no more newsleft at that range\n",
    "                more_button = WebDriverWait(driver, 30).until(\n",
    "                    EC.element_to_be_clickable((By.CSS_SELECTOR, \"#ajax_load_more_565_btn\"))\n",
    "                )\n",
    "\n",
    "                driver.execute_script(\"arguments[0].scrollIntoView()\", more_button)\n",
    "                driver.execute_script(\"arguments[0].click()\", more_button)\n",
    "                print(\"Clicked\")\n",
    "                time.sleep(5)\n",
    "            #auto_load_div = driver.find_element(By.CSS_SELECTOR, \"#ajax_load_more_565_btn\")\n",
    "            #if auto_load_div.get_attribute('style') == \"style: hidden\":\n",
    "            #   print(\"Visible\")\n",
    "\n",
    "        except ElementClickInterceptedException:\n",
    "            print(\"Why?\")\n",
    "driver.quit()"
   ]
  },
  {
   "cell_type": "code",
   "execution_count": 12,
   "metadata": {},
   "outputs": [],
   "source": [
    "lf = pd.DataFrame(links, columns=['links'])"
   ]
  },
  {
   "cell_type": "code",
   "execution_count": 13,
   "metadata": {},
   "outputs": [
    {
     "data": {
      "text/html": [
       "<div>\n",
       "<style scoped>\n",
       "    .dataframe tbody tr th:only-of-type {\n",
       "        vertical-align: middle;\n",
       "    }\n",
       "\n",
       "    .dataframe tbody tr th {\n",
       "        vertical-align: top;\n",
       "    }\n",
       "\n",
       "    .dataframe thead th {\n",
       "        text-align: right;\n",
       "    }\n",
       "</style>\n",
       "<table border=\"1\" class=\"dataframe\">\n",
       "  <thead>\n",
       "    <tr style=\"text-align: right;\">\n",
       "      <th></th>\n",
       "      <th>links</th>\n",
       "    </tr>\n",
       "  </thead>\n",
       "  <tbody>\n",
       "    <tr>\n",
       "      <th>0</th>\n",
       "      <td>https://www.ittefaq.com.bd/685854/%E0%A6%98%E0...</td>\n",
       "    </tr>\n",
       "    <tr>\n",
       "      <th>1</th>\n",
       "      <td>https://www.ittefaq.com.bd/685877/%E0%A6%85%E0...</td>\n",
       "    </tr>\n",
       "    <tr>\n",
       "      <th>2</th>\n",
       "      <td>https://www.ittefaq.com.bd/685871/%E0%A6%B6%E0...</td>\n",
       "    </tr>\n",
       "    <tr>\n",
       "      <th>3</th>\n",
       "      <td>https://www.ittefaq.com.bd/685878/%E0%A6%A1%E0...</td>\n",
       "    </tr>\n",
       "    <tr>\n",
       "      <th>4</th>\n",
       "      <td>https://www.ittefaq.com.bd/685876/%E0%A6%97%E0...</td>\n",
       "    </tr>\n",
       "    <tr>\n",
       "      <th>5</th>\n",
       "      <td>https://www.ittefaq.com.bd/685875/%E0%A6%85%E0...</td>\n",
       "    </tr>\n",
       "    <tr>\n",
       "      <th>6</th>\n",
       "      <td>https://www.ittefaq.com.bd/685874/%E0%A6%AC%E0...</td>\n",
       "    </tr>\n",
       "    <tr>\n",
       "      <th>7</th>\n",
       "      <td>https://www.ittefaq.com.bd/685873/%E0%A6%AE%E0...</td>\n",
       "    </tr>\n",
       "    <tr>\n",
       "      <th>8</th>\n",
       "      <td>https://www.ittefaq.com.bd/685872/%E0%A6%9C%E0...</td>\n",
       "    </tr>\n",
       "    <tr>\n",
       "      <th>9</th>\n",
       "      <td>https://www.ittefaq.com.bd/685870/%E0%A6%B0%E0...</td>\n",
       "    </tr>\n",
       "  </tbody>\n",
       "</table>\n",
       "</div>"
      ],
      "text/plain": [
       "                                               links\n",
       "0  https://www.ittefaq.com.bd/685854/%E0%A6%98%E0...\n",
       "1  https://www.ittefaq.com.bd/685877/%E0%A6%85%E0...\n",
       "2  https://www.ittefaq.com.bd/685871/%E0%A6%B6%E0...\n",
       "3  https://www.ittefaq.com.bd/685878/%E0%A6%A1%E0...\n",
       "4  https://www.ittefaq.com.bd/685876/%E0%A6%97%E0...\n",
       "5  https://www.ittefaq.com.bd/685875/%E0%A6%85%E0...\n",
       "6  https://www.ittefaq.com.bd/685874/%E0%A6%AC%E0...\n",
       "7  https://www.ittefaq.com.bd/685873/%E0%A6%AE%E0...\n",
       "8  https://www.ittefaq.com.bd/685872/%E0%A6%9C%E0...\n",
       "9  https://www.ittefaq.com.bd/685870/%E0%A6%B0%E0..."
      ]
     },
     "execution_count": 13,
     "metadata": {},
     "output_type": "execute_result"
    }
   ],
   "source": [
    "lf.head(10)"
   ]
  },
  {
   "cell_type": "code",
   "execution_count": 14,
   "metadata": {},
   "outputs": [
    {
     "name": "stdout",
     "output_type": "stream",
     "text": [
      "<class 'pandas.core.frame.DataFrame'>\n",
      "RangeIndex: 97 entries, 0 to 96\n",
      "Data columns (total 1 columns):\n",
      " #   Column  Non-Null Count  Dtype \n",
      "---  ------  --------------  ----- \n",
      " 0   links   97 non-null     object\n",
      "dtypes: object(1)\n",
      "memory usage: 908.0+ bytes\n"
     ]
    }
   ],
   "source": [
    "lf.info()"
   ]
  },
  {
   "cell_type": "code",
   "execution_count": 15,
   "metadata": {},
   "outputs": [],
   "source": [
    "lf.to_csv(f'(Links From {start_date}) TO ({end_date}).csv', index=False)"
   ]
  },
  {
   "cell_type": "markdown",
   "metadata": {},
   "source": [
    "# Now using the links stored perviously, go to each links and extract the news article, summary, headline"
   ]
  },
  {
   "cell_type": "markdown",
   "metadata": {},
   "source": [
    "There may be some exception errors because of not finding the elements. That means that, certain article page either has only pictures/videos or the page structure is different than the other ones. In that case article, summararies and headlines for those pages nothin will be saved. To handle those cells with missing values, a code is provided."
   ]
  },
  {
   "cell_type": "code",
   "execution_count": 16,
   "metadata": {},
   "outputs": [
    {
     "name": "stdout",
     "output_type": "stream",
     "text": [
      "Error retrieving headline: Message: no such element: Unable to locate element: {\"method\":\"css selector\",\"selector\":\"div.content_detail_left_inner h1\"}\n",
      "  (Session info: chrome=126.0.6478.127); For documentation on this error, please visit: https://www.selenium.dev/documentation/webdriver/troubleshooting/errors#no-such-element-exception\n",
      "Stacktrace:\n",
      "0   chromedriver                        0x000000010112e4a0 chromedriver + 4301984\n",
      "1   chromedriver                        0x0000000101126de8 chromedriver + 4271592\n",
      "2   chromedriver                        0x0000000100d5819c chromedriver + 278940\n",
      "3   chromedriver                        0x0000000100d9a2c4 chromedriver + 549572\n",
      "4   chromedriver                        0x0000000100dd2c5c chromedriver + 781404\n",
      "5   chromedriver                        0x0000000100d8f004 chromedriver + 503812\n",
      "6   chromedriver                        0x0000000100d8f9ec chromedriver + 506348\n",
      "7   chromedriver                        0x00000001010f64e8 chromedriver + 4072680\n",
      "8   chromedriver                        0x00000001010faf94 chromedriver + 4091796\n",
      "9   chromedriver                        0x00000001010dd72c chromedriver + 3970860\n",
      "10  chromedriver                        0x00000001010fb87c chromedriver + 4094076\n",
      "11  chromedriver                        0x00000001010d06ac chromedriver + 3917484\n",
      "12  chromedriver                        0x0000000101118ae0 chromedriver + 4213472\n",
      "13  chromedriver                        0x0000000101118c5c chromedriver + 4213852\n",
      "14  chromedriver                        0x00000001011269e0 chromedriver + 4270560\n",
      "15  libsystem_pthread.dylib             0x0000000191faf878 _pthread_start + 320\n",
      "16  libsystem_pthread.dylib             0x0000000191faa5e0 thread_start + 8\n",
      "\n",
      "Error retrieving summary. Use the headline as summary instead Message: no such element: Unable to locate element: {\"method\":\"css selector\",\"selector\":\"div.content_detail_content_inner p\"}\n",
      "  (Session info: chrome=126.0.6478.127); For documentation on this error, please visit: https://www.selenium.dev/documentation/webdriver/troubleshooting/errors#no-such-element-exception\n",
      "Stacktrace:\n",
      "0   chromedriver                        0x000000010112e4a0 chromedriver + 4301984\n",
      "1   chromedriver                        0x0000000101126de8 chromedriver + 4271592\n",
      "2   chromedriver                        0x0000000100d5819c chromedriver + 278940\n",
      "3   chromedriver                        0x0000000100d9a2c4 chromedriver + 549572\n",
      "4   chromedriver                        0x0000000100dd2c5c chromedriver + 781404\n",
      "5   chromedriver                        0x0000000100d8f004 chromedriver + 503812\n",
      "6   chromedriver                        0x0000000100d8f9ec chromedriver + 506348\n",
      "7   chromedriver                        0x00000001010f64e8 chromedriver + 4072680\n",
      "8   chromedriver                        0x00000001010faf94 chromedriver + 4091796\n",
      "9   chromedriver                        0x00000001010dd72c chromedriver + 3970860\n",
      "10  chromedriver                        0x00000001010fb87c chromedriver + 4094076\n",
      "11  chromedriver                        0x00000001010d06ac chromedriver + 3917484\n",
      "12  chromedriver                        0x0000000101118ae0 chromedriver + 4213472\n",
      "13  chromedriver                        0x0000000101118c5c chromedriver + 4213852\n",
      "14  chromedriver                        0x00000001011269e0 chromedriver + 4270560\n",
      "15  libsystem_pthread.dylib             0x0000000191faf878 _pthread_start + 320\n",
      "16  libsystem_pthread.dylib             0x0000000191faa5e0 thread_start + 8\n",
      "\n",
      "Error retrieving headline: Message: no such element: Unable to locate element: {\"method\":\"css selector\",\"selector\":\"div.content_detail_left_inner h1\"}\n",
      "  (Session info: chrome=126.0.6478.127); For documentation on this error, please visit: https://www.selenium.dev/documentation/webdriver/troubleshooting/errors#no-such-element-exception\n",
      "Stacktrace:\n",
      "0   chromedriver                        0x000000010112e4a0 chromedriver + 4301984\n",
      "1   chromedriver                        0x0000000101126de8 chromedriver + 4271592\n",
      "2   chromedriver                        0x0000000100d5819c chromedriver + 278940\n",
      "3   chromedriver                        0x0000000100d9a2c4 chromedriver + 549572\n",
      "4   chromedriver                        0x0000000100dd2c5c chromedriver + 781404\n",
      "5   chromedriver                        0x0000000100d8f004 chromedriver + 503812\n",
      "6   chromedriver                        0x0000000100d8f9ec chromedriver + 506348\n",
      "7   chromedriver                        0x00000001010f64e8 chromedriver + 4072680\n",
      "8   chromedriver                        0x00000001010faf94 chromedriver + 4091796\n",
      "9   chromedriver                        0x00000001010dd72c chromedriver + 3970860\n",
      "10  chromedriver                        0x00000001010fb87c chromedriver + 4094076\n",
      "11  chromedriver                        0x00000001010d06ac chromedriver + 3917484\n",
      "12  chromedriver                        0x0000000101118ae0 chromedriver + 4213472\n",
      "13  chromedriver                        0x0000000101118c5c chromedriver + 4213852\n",
      "14  chromedriver                        0x00000001011269e0 chromedriver + 4270560\n",
      "15  libsystem_pthread.dylib             0x0000000191faf878 _pthread_start + 320\n",
      "16  libsystem_pthread.dylib             0x0000000191faa5e0 thread_start + 8\n",
      "\n",
      "Error retrieving summary. Use the headline as summary instead Message: no such element: Unable to locate element: {\"method\":\"css selector\",\"selector\":\"div.content_detail_content_inner p\"}\n",
      "  (Session info: chrome=126.0.6478.127); For documentation on this error, please visit: https://www.selenium.dev/documentation/webdriver/troubleshooting/errors#no-such-element-exception\n",
      "Stacktrace:\n",
      "0   chromedriver                        0x000000010112e4a0 chromedriver + 4301984\n",
      "1   chromedriver                        0x0000000101126de8 chromedriver + 4271592\n",
      "2   chromedriver                        0x0000000100d5819c chromedriver + 278940\n",
      "3   chromedriver                        0x0000000100d9a2c4 chromedriver + 549572\n",
      "4   chromedriver                        0x0000000100dd2c5c chromedriver + 781404\n",
      "5   chromedriver                        0x0000000100d8f004 chromedriver + 503812\n",
      "6   chromedriver                        0x0000000100d8f9ec chromedriver + 506348\n",
      "7   chromedriver                        0x00000001010f64e8 chromedriver + 4072680\n",
      "8   chromedriver                        0x00000001010faf94 chromedriver + 4091796\n",
      "9   chromedriver                        0x00000001010dd72c chromedriver + 3970860\n",
      "10  chromedriver                        0x00000001010fb87c chromedriver + 4094076\n",
      "11  chromedriver                        0x00000001010d06ac chromedriver + 3917484\n",
      "12  chromedriver                        0x0000000101118ae0 chromedriver + 4213472\n",
      "13  chromedriver                        0x0000000101118c5c chromedriver + 4213852\n",
      "14  chromedriver                        0x00000001011269e0 chromedriver + 4270560\n",
      "15  libsystem_pthread.dylib             0x0000000191faf878 _pthread_start + 320\n",
      "16  libsystem_pthread.dylib             0x0000000191faa5e0 thread_start + 8\n",
      "\n"
     ]
    },
    {
     "ename": "KeyboardInterrupt",
     "evalue": "",
     "output_type": "error",
     "traceback": [
      "\u001b[0;31m---------------------------------------------------------------------------\u001b[0m",
      "\u001b[0;31mKeyboardInterrupt\u001b[0m                         Traceback (most recent call last)",
      "Cell \u001b[0;32mIn[16], line 11\u001b[0m\n\u001b[1;32m      8\u001b[0m data \u001b[38;5;241m=\u001b[39m []\n\u001b[1;32m      9\u001b[0m \u001b[38;5;28;01mfor\u001b[39;00m url \u001b[38;5;129;01min\u001b[39;00m cf[\u001b[38;5;124m'\u001b[39m\u001b[38;5;124mlinks\u001b[39m\u001b[38;5;124m'\u001b[39m]:\n\u001b[1;32m     10\u001b[0m     \u001b[38;5;66;03m# Open the website\u001b[39;00m\n\u001b[0;32m---> 11\u001b[0m     \u001b[43mdriver\u001b[49m\u001b[38;5;241;43m.\u001b[39;49m\u001b[43mget\u001b[49m\u001b[43m(\u001b[49m\u001b[43murl\u001b[49m\u001b[43m)\u001b[49m\n\u001b[1;32m     13\u001b[0m     \u001b[38;5;66;03m# Initialize variables to hold content\u001b[39;00m\n\u001b[1;32m     14\u001b[0m     summary \u001b[38;5;241m=\u001b[39m \u001b[38;5;124m\"\u001b[39m\u001b[38;5;124m\"\u001b[39m\n",
      "File \u001b[0;32m/Library/Frameworks/Python.framework/Versions/3.12/lib/python3.12/site-packages/selenium/webdriver/remote/webdriver.py:356\u001b[0m, in \u001b[0;36mWebDriver.get\u001b[0;34m(self, url)\u001b[0m\n\u001b[1;32m    354\u001b[0m \u001b[38;5;28;01mdef\u001b[39;00m \u001b[38;5;21mget\u001b[39m(\u001b[38;5;28mself\u001b[39m, url: \u001b[38;5;28mstr\u001b[39m) \u001b[38;5;241m-\u001b[39m\u001b[38;5;241m>\u001b[39m \u001b[38;5;28;01mNone\u001b[39;00m:\n\u001b[1;32m    355\u001b[0m \u001b[38;5;250m    \u001b[39m\u001b[38;5;124;03m\"\"\"Loads a web page in the current browser session.\"\"\"\u001b[39;00m\n\u001b[0;32m--> 356\u001b[0m     \u001b[38;5;28;43mself\u001b[39;49m\u001b[38;5;241;43m.\u001b[39;49m\u001b[43mexecute\u001b[49m\u001b[43m(\u001b[49m\u001b[43mCommand\u001b[49m\u001b[38;5;241;43m.\u001b[39;49m\u001b[43mGET\u001b[49m\u001b[43m,\u001b[49m\u001b[43m \u001b[49m\u001b[43m{\u001b[49m\u001b[38;5;124;43m\"\u001b[39;49m\u001b[38;5;124;43murl\u001b[39;49m\u001b[38;5;124;43m\"\u001b[39;49m\u001b[43m:\u001b[49m\u001b[43m \u001b[49m\u001b[43murl\u001b[49m\u001b[43m}\u001b[49m\u001b[43m)\u001b[49m\n",
      "File \u001b[0;32m/Library/Frameworks/Python.framework/Versions/3.12/lib/python3.12/site-packages/selenium/webdriver/remote/webdriver.py:345\u001b[0m, in \u001b[0;36mWebDriver.execute\u001b[0;34m(self, driver_command, params)\u001b[0m\n\u001b[1;32m    342\u001b[0m     \u001b[38;5;28;01melif\u001b[39;00m \u001b[38;5;124m\"\u001b[39m\u001b[38;5;124msessionId\u001b[39m\u001b[38;5;124m\"\u001b[39m \u001b[38;5;129;01mnot\u001b[39;00m \u001b[38;5;129;01min\u001b[39;00m params:\n\u001b[1;32m    343\u001b[0m         params[\u001b[38;5;124m\"\u001b[39m\u001b[38;5;124msessionId\u001b[39m\u001b[38;5;124m\"\u001b[39m] \u001b[38;5;241m=\u001b[39m \u001b[38;5;28mself\u001b[39m\u001b[38;5;241m.\u001b[39msession_id\n\u001b[0;32m--> 345\u001b[0m response \u001b[38;5;241m=\u001b[39m \u001b[38;5;28;43mself\u001b[39;49m\u001b[38;5;241;43m.\u001b[39;49m\u001b[43mcommand_executor\u001b[49m\u001b[38;5;241;43m.\u001b[39;49m\u001b[43mexecute\u001b[49m\u001b[43m(\u001b[49m\u001b[43mdriver_command\u001b[49m\u001b[43m,\u001b[49m\u001b[43m \u001b[49m\u001b[43mparams\u001b[49m\u001b[43m)\u001b[49m\n\u001b[1;32m    346\u001b[0m \u001b[38;5;28;01mif\u001b[39;00m response:\n\u001b[1;32m    347\u001b[0m     \u001b[38;5;28mself\u001b[39m\u001b[38;5;241m.\u001b[39merror_handler\u001b[38;5;241m.\u001b[39mcheck_response(response)\n",
      "File \u001b[0;32m/Library/Frameworks/Python.framework/Versions/3.12/lib/python3.12/site-packages/selenium/webdriver/remote/remote_connection.py:302\u001b[0m, in \u001b[0;36mRemoteConnection.execute\u001b[0;34m(self, command, params)\u001b[0m\n\u001b[1;32m    300\u001b[0m trimmed \u001b[38;5;241m=\u001b[39m \u001b[38;5;28mself\u001b[39m\u001b[38;5;241m.\u001b[39m_trim_large_entries(params)\n\u001b[1;32m    301\u001b[0m LOGGER\u001b[38;5;241m.\u001b[39mdebug(\u001b[38;5;124m\"\u001b[39m\u001b[38;5;132;01m%s\u001b[39;00m\u001b[38;5;124m \u001b[39m\u001b[38;5;132;01m%s\u001b[39;00m\u001b[38;5;124m \u001b[39m\u001b[38;5;132;01m%s\u001b[39;00m\u001b[38;5;124m\"\u001b[39m, command_info[\u001b[38;5;241m0\u001b[39m], url, \u001b[38;5;28mstr\u001b[39m(trimmed))\n\u001b[0;32m--> 302\u001b[0m \u001b[38;5;28;01mreturn\u001b[39;00m \u001b[38;5;28;43mself\u001b[39;49m\u001b[38;5;241;43m.\u001b[39;49m\u001b[43m_request\u001b[49m\u001b[43m(\u001b[49m\u001b[43mcommand_info\u001b[49m\u001b[43m[\u001b[49m\u001b[38;5;241;43m0\u001b[39;49m\u001b[43m]\u001b[49m\u001b[43m,\u001b[49m\u001b[43m \u001b[49m\u001b[43murl\u001b[49m\u001b[43m,\u001b[49m\u001b[43m \u001b[49m\u001b[43mbody\u001b[49m\u001b[38;5;241;43m=\u001b[39;49m\u001b[43mdata\u001b[49m\u001b[43m)\u001b[49m\n",
      "File \u001b[0;32m/Library/Frameworks/Python.framework/Versions/3.12/lib/python3.12/site-packages/selenium/webdriver/remote/remote_connection.py:322\u001b[0m, in \u001b[0;36mRemoteConnection._request\u001b[0;34m(self, method, url, body)\u001b[0m\n\u001b[1;32m    319\u001b[0m     body \u001b[38;5;241m=\u001b[39m \u001b[38;5;28;01mNone\u001b[39;00m\n\u001b[1;32m    321\u001b[0m \u001b[38;5;28;01mif\u001b[39;00m \u001b[38;5;28mself\u001b[39m\u001b[38;5;241m.\u001b[39mkeep_alive:\n\u001b[0;32m--> 322\u001b[0m     response \u001b[38;5;241m=\u001b[39m \u001b[38;5;28;43mself\u001b[39;49m\u001b[38;5;241;43m.\u001b[39;49m\u001b[43m_conn\u001b[49m\u001b[38;5;241;43m.\u001b[39;49m\u001b[43mrequest\u001b[49m\u001b[43m(\u001b[49m\u001b[43mmethod\u001b[49m\u001b[43m,\u001b[49m\u001b[43m \u001b[49m\u001b[43murl\u001b[49m\u001b[43m,\u001b[49m\u001b[43m \u001b[49m\u001b[43mbody\u001b[49m\u001b[38;5;241;43m=\u001b[39;49m\u001b[43mbody\u001b[49m\u001b[43m,\u001b[49m\u001b[43m \u001b[49m\u001b[43mheaders\u001b[49m\u001b[38;5;241;43m=\u001b[39;49m\u001b[43mheaders\u001b[49m\u001b[43m)\u001b[49m\n\u001b[1;32m    323\u001b[0m     statuscode \u001b[38;5;241m=\u001b[39m response\u001b[38;5;241m.\u001b[39mstatus\n\u001b[1;32m    324\u001b[0m \u001b[38;5;28;01melse\u001b[39;00m:\n",
      "File \u001b[0;32m/Library/Frameworks/Python.framework/Versions/3.12/lib/python3.12/site-packages/urllib3/_request_methods.py:144\u001b[0m, in \u001b[0;36mRequestMethods.request\u001b[0;34m(self, method, url, body, fields, headers, json, **urlopen_kw)\u001b[0m\n\u001b[1;32m    136\u001b[0m     \u001b[38;5;28;01mreturn\u001b[39;00m \u001b[38;5;28mself\u001b[39m\u001b[38;5;241m.\u001b[39mrequest_encode_url(\n\u001b[1;32m    137\u001b[0m         method,\n\u001b[1;32m    138\u001b[0m         url,\n\u001b[0;32m   (...)\u001b[0m\n\u001b[1;32m    141\u001b[0m         \u001b[38;5;241m*\u001b[39m\u001b[38;5;241m*\u001b[39murlopen_kw,\n\u001b[1;32m    142\u001b[0m     )\n\u001b[1;32m    143\u001b[0m \u001b[38;5;28;01melse\u001b[39;00m:\n\u001b[0;32m--> 144\u001b[0m     \u001b[38;5;28;01mreturn\u001b[39;00m \u001b[38;5;28;43mself\u001b[39;49m\u001b[38;5;241;43m.\u001b[39;49m\u001b[43mrequest_encode_body\u001b[49m\u001b[43m(\u001b[49m\n\u001b[1;32m    145\u001b[0m \u001b[43m        \u001b[49m\u001b[43mmethod\u001b[49m\u001b[43m,\u001b[49m\u001b[43m \u001b[49m\u001b[43murl\u001b[49m\u001b[43m,\u001b[49m\u001b[43m \u001b[49m\u001b[43mfields\u001b[49m\u001b[38;5;241;43m=\u001b[39;49m\u001b[43mfields\u001b[49m\u001b[43m,\u001b[49m\u001b[43m \u001b[49m\u001b[43mheaders\u001b[49m\u001b[38;5;241;43m=\u001b[39;49m\u001b[43mheaders\u001b[49m\u001b[43m,\u001b[49m\u001b[43m \u001b[49m\u001b[38;5;241;43m*\u001b[39;49m\u001b[38;5;241;43m*\u001b[39;49m\u001b[43murlopen_kw\u001b[49m\n\u001b[1;32m    146\u001b[0m \u001b[43m    \u001b[49m\u001b[43m)\u001b[49m\n",
      "File \u001b[0;32m/Library/Frameworks/Python.framework/Versions/3.12/lib/python3.12/site-packages/urllib3/_request_methods.py:279\u001b[0m, in \u001b[0;36mRequestMethods.request_encode_body\u001b[0;34m(self, method, url, fields, headers, encode_multipart, multipart_boundary, **urlopen_kw)\u001b[0m\n\u001b[1;32m    275\u001b[0m     extra_kw[\u001b[38;5;124m\"\u001b[39m\u001b[38;5;124mheaders\u001b[39m\u001b[38;5;124m\"\u001b[39m]\u001b[38;5;241m.\u001b[39msetdefault(\u001b[38;5;124m\"\u001b[39m\u001b[38;5;124mContent-Type\u001b[39m\u001b[38;5;124m\"\u001b[39m, content_type)\n\u001b[1;32m    277\u001b[0m extra_kw\u001b[38;5;241m.\u001b[39mupdate(urlopen_kw)\n\u001b[0;32m--> 279\u001b[0m \u001b[38;5;28;01mreturn\u001b[39;00m \u001b[38;5;28;43mself\u001b[39;49m\u001b[38;5;241;43m.\u001b[39;49m\u001b[43murlopen\u001b[49m\u001b[43m(\u001b[49m\u001b[43mmethod\u001b[49m\u001b[43m,\u001b[49m\u001b[43m \u001b[49m\u001b[43murl\u001b[49m\u001b[43m,\u001b[49m\u001b[43m \u001b[49m\u001b[38;5;241;43m*\u001b[39;49m\u001b[38;5;241;43m*\u001b[39;49m\u001b[43mextra_kw\u001b[49m\u001b[43m)\u001b[49m\n",
      "File \u001b[0;32m/Library/Frameworks/Python.framework/Versions/3.12/lib/python3.12/site-packages/urllib3/poolmanager.py:444\u001b[0m, in \u001b[0;36mPoolManager.urlopen\u001b[0;34m(self, method, url, redirect, **kw)\u001b[0m\n\u001b[1;32m    442\u001b[0m     response \u001b[38;5;241m=\u001b[39m conn\u001b[38;5;241m.\u001b[39murlopen(method, url, \u001b[38;5;241m*\u001b[39m\u001b[38;5;241m*\u001b[39mkw)\n\u001b[1;32m    443\u001b[0m \u001b[38;5;28;01melse\u001b[39;00m:\n\u001b[0;32m--> 444\u001b[0m     response \u001b[38;5;241m=\u001b[39m \u001b[43mconn\u001b[49m\u001b[38;5;241;43m.\u001b[39;49m\u001b[43murlopen\u001b[49m\u001b[43m(\u001b[49m\u001b[43mmethod\u001b[49m\u001b[43m,\u001b[49m\u001b[43m \u001b[49m\u001b[43mu\u001b[49m\u001b[38;5;241;43m.\u001b[39;49m\u001b[43mrequest_uri\u001b[49m\u001b[43m,\u001b[49m\u001b[43m \u001b[49m\u001b[38;5;241;43m*\u001b[39;49m\u001b[38;5;241;43m*\u001b[39;49m\u001b[43mkw\u001b[49m\u001b[43m)\u001b[49m\n\u001b[1;32m    446\u001b[0m redirect_location \u001b[38;5;241m=\u001b[39m redirect \u001b[38;5;129;01mand\u001b[39;00m response\u001b[38;5;241m.\u001b[39mget_redirect_location()\n\u001b[1;32m    447\u001b[0m \u001b[38;5;28;01mif\u001b[39;00m \u001b[38;5;129;01mnot\u001b[39;00m redirect_location:\n",
      "File \u001b[0;32m/Library/Frameworks/Python.framework/Versions/3.12/lib/python3.12/site-packages/urllib3/connectionpool.py:793\u001b[0m, in \u001b[0;36mHTTPConnectionPool.urlopen\u001b[0;34m(self, method, url, body, headers, retries, redirect, assert_same_host, timeout, pool_timeout, release_conn, chunked, body_pos, preload_content, decode_content, **response_kw)\u001b[0m\n\u001b[1;32m    790\u001b[0m response_conn \u001b[38;5;241m=\u001b[39m conn \u001b[38;5;28;01mif\u001b[39;00m \u001b[38;5;129;01mnot\u001b[39;00m release_conn \u001b[38;5;28;01melse\u001b[39;00m \u001b[38;5;28;01mNone\u001b[39;00m\n\u001b[1;32m    792\u001b[0m \u001b[38;5;66;03m# Make the request on the HTTPConnection object\u001b[39;00m\n\u001b[0;32m--> 793\u001b[0m response \u001b[38;5;241m=\u001b[39m \u001b[38;5;28;43mself\u001b[39;49m\u001b[38;5;241;43m.\u001b[39;49m\u001b[43m_make_request\u001b[49m\u001b[43m(\u001b[49m\n\u001b[1;32m    794\u001b[0m \u001b[43m    \u001b[49m\u001b[43mconn\u001b[49m\u001b[43m,\u001b[49m\n\u001b[1;32m    795\u001b[0m \u001b[43m    \u001b[49m\u001b[43mmethod\u001b[49m\u001b[43m,\u001b[49m\n\u001b[1;32m    796\u001b[0m \u001b[43m    \u001b[49m\u001b[43murl\u001b[49m\u001b[43m,\u001b[49m\n\u001b[1;32m    797\u001b[0m \u001b[43m    \u001b[49m\u001b[43mtimeout\u001b[49m\u001b[38;5;241;43m=\u001b[39;49m\u001b[43mtimeout_obj\u001b[49m\u001b[43m,\u001b[49m\n\u001b[1;32m    798\u001b[0m \u001b[43m    \u001b[49m\u001b[43mbody\u001b[49m\u001b[38;5;241;43m=\u001b[39;49m\u001b[43mbody\u001b[49m\u001b[43m,\u001b[49m\n\u001b[1;32m    799\u001b[0m \u001b[43m    \u001b[49m\u001b[43mheaders\u001b[49m\u001b[38;5;241;43m=\u001b[39;49m\u001b[43mheaders\u001b[49m\u001b[43m,\u001b[49m\n\u001b[1;32m    800\u001b[0m \u001b[43m    \u001b[49m\u001b[43mchunked\u001b[49m\u001b[38;5;241;43m=\u001b[39;49m\u001b[43mchunked\u001b[49m\u001b[43m,\u001b[49m\n\u001b[1;32m    801\u001b[0m \u001b[43m    \u001b[49m\u001b[43mretries\u001b[49m\u001b[38;5;241;43m=\u001b[39;49m\u001b[43mretries\u001b[49m\u001b[43m,\u001b[49m\n\u001b[1;32m    802\u001b[0m \u001b[43m    \u001b[49m\u001b[43mresponse_conn\u001b[49m\u001b[38;5;241;43m=\u001b[39;49m\u001b[43mresponse_conn\u001b[49m\u001b[43m,\u001b[49m\n\u001b[1;32m    803\u001b[0m \u001b[43m    \u001b[49m\u001b[43mpreload_content\u001b[49m\u001b[38;5;241;43m=\u001b[39;49m\u001b[43mpreload_content\u001b[49m\u001b[43m,\u001b[49m\n\u001b[1;32m    804\u001b[0m \u001b[43m    \u001b[49m\u001b[43mdecode_content\u001b[49m\u001b[38;5;241;43m=\u001b[39;49m\u001b[43mdecode_content\u001b[49m\u001b[43m,\u001b[49m\n\u001b[1;32m    805\u001b[0m \u001b[43m    \u001b[49m\u001b[38;5;241;43m*\u001b[39;49m\u001b[38;5;241;43m*\u001b[39;49m\u001b[43mresponse_kw\u001b[49m\u001b[43m,\u001b[49m\n\u001b[1;32m    806\u001b[0m \u001b[43m\u001b[49m\u001b[43m)\u001b[49m\n\u001b[1;32m    808\u001b[0m \u001b[38;5;66;03m# Everything went great!\u001b[39;00m\n\u001b[1;32m    809\u001b[0m clean_exit \u001b[38;5;241m=\u001b[39m \u001b[38;5;28;01mTrue\u001b[39;00m\n",
      "File \u001b[0;32m/Library/Frameworks/Python.framework/Versions/3.12/lib/python3.12/site-packages/urllib3/connectionpool.py:537\u001b[0m, in \u001b[0;36mHTTPConnectionPool._make_request\u001b[0;34m(self, conn, method, url, body, headers, retries, timeout, chunked, response_conn, preload_content, decode_content, enforce_content_length)\u001b[0m\n\u001b[1;32m    535\u001b[0m \u001b[38;5;66;03m# Receive the response from the server\u001b[39;00m\n\u001b[1;32m    536\u001b[0m \u001b[38;5;28;01mtry\u001b[39;00m:\n\u001b[0;32m--> 537\u001b[0m     response \u001b[38;5;241m=\u001b[39m \u001b[43mconn\u001b[49m\u001b[38;5;241;43m.\u001b[39;49m\u001b[43mgetresponse\u001b[49m\u001b[43m(\u001b[49m\u001b[43m)\u001b[49m\n\u001b[1;32m    538\u001b[0m \u001b[38;5;28;01mexcept\u001b[39;00m (BaseSSLError, \u001b[38;5;167;01mOSError\u001b[39;00m) \u001b[38;5;28;01mas\u001b[39;00m e:\n\u001b[1;32m    539\u001b[0m     \u001b[38;5;28mself\u001b[39m\u001b[38;5;241m.\u001b[39m_raise_timeout(err\u001b[38;5;241m=\u001b[39me, url\u001b[38;5;241m=\u001b[39murl, timeout_value\u001b[38;5;241m=\u001b[39mread_timeout)\n",
      "File \u001b[0;32m/Library/Frameworks/Python.framework/Versions/3.12/lib/python3.12/site-packages/urllib3/connection.py:466\u001b[0m, in \u001b[0;36mHTTPConnection.getresponse\u001b[0;34m(self)\u001b[0m\n\u001b[1;32m    463\u001b[0m \u001b[38;5;28;01mfrom\u001b[39;00m \u001b[38;5;21;01m.\u001b[39;00m\u001b[38;5;21;01mresponse\u001b[39;00m \u001b[38;5;28;01mimport\u001b[39;00m HTTPResponse\n\u001b[1;32m    465\u001b[0m \u001b[38;5;66;03m# Get the response from http.client.HTTPConnection\u001b[39;00m\n\u001b[0;32m--> 466\u001b[0m httplib_response \u001b[38;5;241m=\u001b[39m \u001b[38;5;28;43msuper\u001b[39;49m\u001b[43m(\u001b[49m\u001b[43m)\u001b[49m\u001b[38;5;241;43m.\u001b[39;49m\u001b[43mgetresponse\u001b[49m\u001b[43m(\u001b[49m\u001b[43m)\u001b[49m\n\u001b[1;32m    468\u001b[0m \u001b[38;5;28;01mtry\u001b[39;00m:\n\u001b[1;32m    469\u001b[0m     assert_header_parsing(httplib_response\u001b[38;5;241m.\u001b[39mmsg)\n",
      "File \u001b[0;32m/Library/Frameworks/Python.framework/Versions/3.12/lib/python3.12/http/client.py:1428\u001b[0m, in \u001b[0;36mHTTPConnection.getresponse\u001b[0;34m(self)\u001b[0m\n\u001b[1;32m   1426\u001b[0m \u001b[38;5;28;01mtry\u001b[39;00m:\n\u001b[1;32m   1427\u001b[0m     \u001b[38;5;28;01mtry\u001b[39;00m:\n\u001b[0;32m-> 1428\u001b[0m         \u001b[43mresponse\u001b[49m\u001b[38;5;241;43m.\u001b[39;49m\u001b[43mbegin\u001b[49m\u001b[43m(\u001b[49m\u001b[43m)\u001b[49m\n\u001b[1;32m   1429\u001b[0m     \u001b[38;5;28;01mexcept\u001b[39;00m \u001b[38;5;167;01mConnectionError\u001b[39;00m:\n\u001b[1;32m   1430\u001b[0m         \u001b[38;5;28mself\u001b[39m\u001b[38;5;241m.\u001b[39mclose()\n",
      "File \u001b[0;32m/Library/Frameworks/Python.framework/Versions/3.12/lib/python3.12/http/client.py:331\u001b[0m, in \u001b[0;36mHTTPResponse.begin\u001b[0;34m(self)\u001b[0m\n\u001b[1;32m    329\u001b[0m \u001b[38;5;66;03m# read until we get a non-100 response\u001b[39;00m\n\u001b[1;32m    330\u001b[0m \u001b[38;5;28;01mwhile\u001b[39;00m \u001b[38;5;28;01mTrue\u001b[39;00m:\n\u001b[0;32m--> 331\u001b[0m     version, status, reason \u001b[38;5;241m=\u001b[39m \u001b[38;5;28;43mself\u001b[39;49m\u001b[38;5;241;43m.\u001b[39;49m\u001b[43m_read_status\u001b[49m\u001b[43m(\u001b[49m\u001b[43m)\u001b[49m\n\u001b[1;32m    332\u001b[0m     \u001b[38;5;28;01mif\u001b[39;00m status \u001b[38;5;241m!=\u001b[39m CONTINUE:\n\u001b[1;32m    333\u001b[0m         \u001b[38;5;28;01mbreak\u001b[39;00m\n",
      "File \u001b[0;32m/Library/Frameworks/Python.framework/Versions/3.12/lib/python3.12/http/client.py:292\u001b[0m, in \u001b[0;36mHTTPResponse._read_status\u001b[0;34m(self)\u001b[0m\n\u001b[1;32m    291\u001b[0m \u001b[38;5;28;01mdef\u001b[39;00m \u001b[38;5;21m_read_status\u001b[39m(\u001b[38;5;28mself\u001b[39m):\n\u001b[0;32m--> 292\u001b[0m     line \u001b[38;5;241m=\u001b[39m \u001b[38;5;28mstr\u001b[39m(\u001b[38;5;28;43mself\u001b[39;49m\u001b[38;5;241;43m.\u001b[39;49m\u001b[43mfp\u001b[49m\u001b[38;5;241;43m.\u001b[39;49m\u001b[43mreadline\u001b[49m\u001b[43m(\u001b[49m\u001b[43m_MAXLINE\u001b[49m\u001b[43m \u001b[49m\u001b[38;5;241;43m+\u001b[39;49m\u001b[43m \u001b[49m\u001b[38;5;241;43m1\u001b[39;49m\u001b[43m)\u001b[49m, \u001b[38;5;124m\"\u001b[39m\u001b[38;5;124miso-8859-1\u001b[39m\u001b[38;5;124m\"\u001b[39m)\n\u001b[1;32m    293\u001b[0m     \u001b[38;5;28;01mif\u001b[39;00m \u001b[38;5;28mlen\u001b[39m(line) \u001b[38;5;241m>\u001b[39m _MAXLINE:\n\u001b[1;32m    294\u001b[0m         \u001b[38;5;28;01mraise\u001b[39;00m LineTooLong(\u001b[38;5;124m\"\u001b[39m\u001b[38;5;124mstatus line\u001b[39m\u001b[38;5;124m\"\u001b[39m)\n",
      "File \u001b[0;32m/Library/Frameworks/Python.framework/Versions/3.12/lib/python3.12/socket.py:707\u001b[0m, in \u001b[0;36mSocketIO.readinto\u001b[0;34m(self, b)\u001b[0m\n\u001b[1;32m    705\u001b[0m \u001b[38;5;28;01mwhile\u001b[39;00m \u001b[38;5;28;01mTrue\u001b[39;00m:\n\u001b[1;32m    706\u001b[0m     \u001b[38;5;28;01mtry\u001b[39;00m:\n\u001b[0;32m--> 707\u001b[0m         \u001b[38;5;28;01mreturn\u001b[39;00m \u001b[38;5;28;43mself\u001b[39;49m\u001b[38;5;241;43m.\u001b[39;49m\u001b[43m_sock\u001b[49m\u001b[38;5;241;43m.\u001b[39;49m\u001b[43mrecv_into\u001b[49m\u001b[43m(\u001b[49m\u001b[43mb\u001b[49m\u001b[43m)\u001b[49m\n\u001b[1;32m    708\u001b[0m     \u001b[38;5;28;01mexcept\u001b[39;00m timeout:\n\u001b[1;32m    709\u001b[0m         \u001b[38;5;28mself\u001b[39m\u001b[38;5;241m.\u001b[39m_timeout_occurred \u001b[38;5;241m=\u001b[39m \u001b[38;5;28;01mTrue\u001b[39;00m\n",
      "\u001b[0;31mKeyboardInterrupt\u001b[0m: "
     ]
    }
   ],
   "source": [
    "service = Service(executable_path=\"/Users/ashrafulshuvon/Desktop/Selenium/chromedriver\")\n",
    "options = Options()\n",
    "options.add_argument(\"window-size=1920,1080\")\n",
    "driver = webdriver.Chrome(service=service, options=options)\n",
    "\n",
    "cf = pd.read_csv(\"(Links From 2024-05-01) TO (2024-05-02).csv\")\n",
    "\n",
    "data = []\n",
    "for url in cf['links']:\n",
    "    # Open the website\n",
    "    driver.get(url)\n",
    "\n",
    "    # Initialize variables to hold content\n",
    "    summary = \"\"\n",
    "    headline = \"\"\n",
    "    article = []\n",
    "    \n",
    "    # Extract the headline text from the <h1> tag\n",
    "    try:\n",
    "        headline_element = driver.find_element(By.CSS_SELECTOR, \"div.content_detail_left_inner h1\")\n",
    "        headline = headline_element.text\n",
    "    except Exception as e:\n",
    "        print(\"Error retrieving headline:\", e)\n",
    "        \n",
    "    # Extract the summary text from the first <p> tag(Taking the first paragraph of the article as summary)\n",
    "    try:\n",
    "        summary_element = driver.find_element(By.CSS_SELECTOR, \"div.content_detail_content_inner p\")\n",
    "        summary = summary_element.text\n",
    "    except Exception as e:\n",
    "        print(\"Error retrieving summary. Use the headline as summary instead\", e)\n",
    "        summary = headline\n",
    "\n",
    "    # Extract all paragraph texts within the same div\n",
    "    try:\n",
    "        paragraphs = driver.find_elements(By.CSS_SELECTOR, \"div.content_detail_content_inner p\")\n",
    "        for paragraph in paragraphs:\n",
    "            # Add text of each paragraph to the article list, ensure it does not contain newlines\n",
    "            article.append(paragraph.text.replace('\\n', ' '))\n",
    "    except Exception as e:\n",
    "        print(\"Error retrieving article paragraphs:\", e)\n",
    "\n",
    "    # Concatenate all article texts into one string separated by spaces\n",
    "    article_text = ' '.join(article)\n",
    "\n",
    "    # Create a DataFrame\n",
    "    data.append({\n",
    "        'headline': headline,\n",
    "        'summary': summary,\n",
    "        'article': article_text\n",
    "    })\n",
    "    \n",
    "df = pd.DataFrame(data)\n",
    "time.sleep(5)\n",
    "# Print and save the DataFrame\n",
    "\n",
    "\n",
    "# Close the driver\n",
    "driver.quit()"
   ]
  },
  {
   "cell_type": "code",
   "execution_count": null,
   "metadata": {},
   "outputs": [
    {
     "data": {
      "text/html": [
       "<div>\n",
       "<style scoped>\n",
       "    .dataframe tbody tr th:only-of-type {\n",
       "        vertical-align: middle;\n",
       "    }\n",
       "\n",
       "    .dataframe tbody tr th {\n",
       "        vertical-align: top;\n",
       "    }\n",
       "\n",
       "    .dataframe thead th {\n",
       "        text-align: right;\n",
       "    }\n",
       "</style>\n",
       "<table border=\"1\" class=\"dataframe\">\n",
       "  <thead>\n",
       "    <tr style=\"text-align: right;\">\n",
       "      <th></th>\n",
       "      <th>headline</th>\n",
       "      <th>summary</th>\n",
       "      <th>article</th>\n",
       "    </tr>\n",
       "  </thead>\n",
       "  <tbody>\n",
       "    <tr>\n",
       "      <th>0</th>\n",
       "      <td>ঘুমের যত্ন নেবে যেসব গাছ</td>\n",
       "      <td>সবুজ মনে স্বস্তি এনে দেয়। একঘেয়ে ঘরের সাজসজ্জা...</td>\n",
       "      <td>সবুজ মনে স্বস্তি এনে দেয়। একঘেয়ে ঘরের সাজসজ্জা...</td>\n",
       "    </tr>\n",
       "    <tr>\n",
       "      <th>1</th>\n",
       "      <td>অবিলম্বে ১০ম ওয়েজবোর্ড গঠন করুন</td>\n",
       "      <td>মে দিবসের চেতনা বাস্তবায়নে সংবাদপত্র ও টেলিভিশ...</td>\n",
       "      <td>মে দিবসের চেতনা বাস্তবায়নে সংবাদপত্র ও টেলিভিশ...</td>\n",
       "    </tr>\n",
       "    <tr>\n",
       "      <th>2</th>\n",
       "      <td>শ্রমিকদের অংশীদারিত্ব নিশ্চিত করাসহ ৪ দফা দাবি</td>\n",
       "      <td>সংসদ থেকে স্থানীয় সরকার, শিল্প-কারখানা পরিচালন...</td>\n",
       "      <td>সংসদ থেকে স্থানীয় সরকার, শিল্প-কারখানা পরিচালন...</td>\n",
       "    </tr>\n",
       "    <tr>\n",
       "      <th>3</th>\n",
       "      <td>ডিজাব’র নতুন সভাপতি আলমগীর, সাধারণ সম্পাদক আহম...</td>\n",
       "      <td>সশস্ত্রবাহিনী তথা প্রতিরক্ষা বিটের সাংবাদিকদের...</td>\n",
       "      <td>সশস্ত্রবাহিনী তথা প্রতিরক্ষা বিটের সাংবাদিকদের...</td>\n",
       "    </tr>\n",
       "    <tr>\n",
       "      <th>4</th>\n",
       "      <td>গাড়িতে অযাচিত স্টিকার ব্যবহারের বিরুদ্ধে পুলি...</td>\n",
       "      <td>গাড়িতে অযাচিত স্টিকার ব্যবহারের বিরুদ্ধে রাজধ...</td>\n",
       "      <td>গাড়িতে অযাচিত স্টিকার ব্যবহারের বিরুদ্ধে রাজধ...</td>\n",
       "    </tr>\n",
       "    <tr>\n",
       "      <th>...</th>\n",
       "      <td>...</td>\n",
       "      <td>...</td>\n",
       "      <td>...</td>\n",
       "    </tr>\n",
       "    <tr>\n",
       "      <th>296</th>\n",
       "      <td>সাভারে মাদক ব্যবসায় জড়াচ্ছে নারীরাও</td>\n",
       "      <td>দেশের সীমান্তবর্তী জেলাগুলো থেকে প্রতিদিন বিপু...</td>\n",
       "      <td>দেশের সীমান্তবর্তী জেলাগুলো থেকে প্রতিদিন বিপু...</td>\n",
       "    </tr>\n",
       "    <tr>\n",
       "      <th>297</th>\n",
       "      <td>রায়পুরে জনপ্রিয় হচ্ছে সয়াবিন চাষ</td>\n",
       "      <td>রায়পুর উপজেলা জুড়ে আধা পাকা সোনালি সয়াবিনের শি...</td>\n",
       "      <td>রায়পুর উপজেলা জুড়ে আধা পাকা সোনালি সয়াবিনের শি...</td>\n",
       "    </tr>\n",
       "    <tr>\n",
       "      <th>298</th>\n",
       "      <td>জোর করে ব্যাংক একীভূতকরণ ঠিক হবে না: ড. ফরাসউদ...</td>\n",
       "      <td>জোর করে ব্যাংক একীভূতকরণ করা ঠিক হবে না বলে মন...</td>\n",
       "      <td>জোর করে ব্যাংক একীভূতকরণ করা ঠিক হবে না বলে মন...</td>\n",
       "    </tr>\n",
       "    <tr>\n",
       "      <th>299</th>\n",
       "      <td>চেয়ারম্যান প্রার্থীকে মারধর সংঘর্ষ, সাংবাদিকদে...</td>\n",
       "      <td>উপজেলা নির্বাচন সামনে রেখে সহিংসতা ছড়িয়ে পড়ছে।...</td>\n",
       "      <td>উপজেলা নির্বাচন সামনে রেখে সহিংসতা ছড়িয়ে পড়ছে।...</td>\n",
       "    </tr>\n",
       "    <tr>\n",
       "      <th>300</th>\n",
       "      <td>আমাকে উৎখাত করে তারা কাকে ক্ষমতায় আনতে চায়: প্...</td>\n",
       "      <td>প্রধানমন্ত্রী ও আওয়ামী লীগের সভাপতি শেখ হাসিনা...</td>\n",
       "      <td>প্রধানমন্ত্রী ও আওয়ামী লীগের সভাপতি শেখ হাসিনা...</td>\n",
       "    </tr>\n",
       "  </tbody>\n",
       "</table>\n",
       "<p>301 rows × 3 columns</p>\n",
       "</div>"
      ],
      "text/plain": [
       "                                              headline  \\\n",
       "0                            ঘুমের যত্ন নেবে যেসব গাছ    \n",
       "1                      অবিলম্বে ১০ম ওয়েজবোর্ড গঠন করুন   \n",
       "2      শ্রমিকদের অংশীদারিত্ব নিশ্চিত করাসহ ৪ দফা দাবি    \n",
       "3    ডিজাব’র নতুন সভাপতি আলমগীর, সাধারণ সম্পাদক আহম...   \n",
       "4    গাড়িতে অযাচিত স্টিকার ব্যবহারের বিরুদ্ধে পুলি...   \n",
       "..                                                 ...   \n",
       "296                সাভারে মাদক ব্যবসায় জড়াচ্ছে নারীরাও   \n",
       "297                   রায়পুরে জনপ্রিয় হচ্ছে সয়াবিন চাষ   \n",
       "298  জোর করে ব্যাংক একীভূতকরণ ঠিক হবে না: ড. ফরাসউদ...   \n",
       "299  চেয়ারম্যান প্রার্থীকে মারধর সংঘর্ষ, সাংবাদিকদে...   \n",
       "300  আমাকে উৎখাত করে তারা কাকে ক্ষমতায় আনতে চায়: প্...   \n",
       "\n",
       "                                               summary  \\\n",
       "0    সবুজ মনে স্বস্তি এনে দেয়। একঘেয়ে ঘরের সাজসজ্জা...   \n",
       "1    মে দিবসের চেতনা বাস্তবায়নে সংবাদপত্র ও টেলিভিশ...   \n",
       "2    সংসদ থেকে স্থানীয় সরকার, শিল্প-কারখানা পরিচালন...   \n",
       "3    সশস্ত্রবাহিনী তথা প্রতিরক্ষা বিটের সাংবাদিকদের...   \n",
       "4    গাড়িতে অযাচিত স্টিকার ব্যবহারের বিরুদ্ধে রাজধ...   \n",
       "..                                                 ...   \n",
       "296  দেশের সীমান্তবর্তী জেলাগুলো থেকে প্রতিদিন বিপু...   \n",
       "297  রায়পুর উপজেলা জুড়ে আধা পাকা সোনালি সয়াবিনের শি...   \n",
       "298  জোর করে ব্যাংক একীভূতকরণ করা ঠিক হবে না বলে মন...   \n",
       "299  উপজেলা নির্বাচন সামনে রেখে সহিংসতা ছড়িয়ে পড়ছে।...   \n",
       "300  প্রধানমন্ত্রী ও আওয়ামী লীগের সভাপতি শেখ হাসিনা...   \n",
       "\n",
       "                                               article  \n",
       "0    সবুজ মনে স্বস্তি এনে দেয়। একঘেয়ে ঘরের সাজসজ্জা...  \n",
       "1    মে দিবসের চেতনা বাস্তবায়নে সংবাদপত্র ও টেলিভিশ...  \n",
       "2    সংসদ থেকে স্থানীয় সরকার, শিল্প-কারখানা পরিচালন...  \n",
       "3    সশস্ত্রবাহিনী তথা প্রতিরক্ষা বিটের সাংবাদিকদের...  \n",
       "4    গাড়িতে অযাচিত স্টিকার ব্যবহারের বিরুদ্ধে রাজধ...  \n",
       "..                                                 ...  \n",
       "296  দেশের সীমান্তবর্তী জেলাগুলো থেকে প্রতিদিন বিপু...  \n",
       "297  রায়পুর উপজেলা জুড়ে আধা পাকা সোনালি সয়াবিনের শি...  \n",
       "298  জোর করে ব্যাংক একীভূতকরণ করা ঠিক হবে না বলে মন...  \n",
       "299  উপজেলা নির্বাচন সামনে রেখে সহিংসতা ছড়িয়ে পড়ছে।...  \n",
       "300  প্রধানমন্ত্রী ও আওয়ামী লীগের সভাপতি শেখ হাসিনা...  \n",
       "\n",
       "[301 rows x 3 columns]"
      ]
     },
     "execution_count": 24,
     "metadata": {},
     "output_type": "execute_result"
    }
   ],
   "source": [
    "df"
   ]
  },
  {
   "cell_type": "markdown",
   "metadata": {},
   "source": [
    "Handle the missing values for exceptions"
   ]
  },
  {
   "cell_type": "code",
   "execution_count": null,
   "metadata": {},
   "outputs": [],
   "source": [
    "df = df[~df.apply(lambda x: '' in x.values, axis=1)] # Remove rows with any empty cells\n"
   ]
  },
  {
   "cell_type": "code",
   "execution_count": null,
   "metadata": {},
   "outputs": [],
   "source": [
    "# Uncomment if start & end dates are not defined. Set the date as per as your link dataframe/dataset\n",
    "#start_date = date(2024,5,5) \n",
    "#end_date = date(2024,5,7)"
   ]
  },
  {
   "cell_type": "code",
   "execution_count": null,
   "metadata": {},
   "outputs": [],
   "source": [
    "df.to_csv(f'News From {start_date} To {end_date}.csv', index=False) # Save the data to a CSV file"
   ]
  },
  {
   "cell_type": "code",
   "execution_count": null,
   "metadata": {},
   "outputs": [
    {
     "data": {
      "text/plain": [
       "'ডিজাব’র নতুন সভাপতি আলমগীর, সাধারণ সম্পাদক আহম্মদ উল্লাহ'"
      ]
     },
     "execution_count": 27,
     "metadata": {},
     "output_type": "execute_result"
    }
   ],
   "source": [
    "df['headline'].iloc[3]"
   ]
  },
  {
   "cell_type": "code",
   "execution_count": null,
   "metadata": {},
   "outputs": [
    {
     "name": "stdout",
     "output_type": "stream",
     "text": [
      "<class 'pandas.core.frame.DataFrame'>\n",
      "Index: 297 entries, 0 to 300\n",
      "Data columns (total 3 columns):\n",
      " #   Column    Non-Null Count  Dtype \n",
      "---  ------    --------------  ----- \n",
      " 0   headline  297 non-null    object\n",
      " 1   summary   297 non-null    object\n",
      " 2   article   297 non-null    object\n",
      "dtypes: object(3)\n",
      "memory usage: 9.3+ KB\n"
     ]
    }
   ],
   "source": [
    "df.info()"
   ]
  },
  {
   "cell_type": "code",
   "execution_count": null,
   "metadata": {},
   "outputs": [],
   "source": []
  }
 ],
 "metadata": {
  "kernelspec": {
   "display_name": "Python 3",
   "language": "python",
   "name": "python3"
  },
  "language_info": {
   "codemirror_mode": {
    "name": "ipython",
    "version": 3
   },
   "file_extension": ".py",
   "mimetype": "text/x-python",
   "name": "python",
   "nbconvert_exporter": "python",
   "pygments_lexer": "ipython3",
   "version": "3.12.3"
  }
 },
 "nbformat": 4,
 "nbformat_minor": 2
}
